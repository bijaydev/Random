{
  "nbformat": 4,
  "nbformat_minor": 0,
  "metadata": {
    "colab": {
      "name": "K-means.ipynb",
      "provenance": [],
      "collapsed_sections": []
    },
    "kernelspec": {
      "name": "python3",
      "display_name": "Python 3"
    }
  },
  "cells": [
    {
      "cell_type": "code",
      "metadata": {
        "id": "gDGFsTfyMjIV"
      },
      "source": [
        "import matplotlib.pyplot as plt\n",
        "from matplotlib import style\n",
        "style.use('ggplot')\n",
        "import numpy as np\n",
        "from sklearn.cluster import KMeans\n"
      ],
      "execution_count": 27,
      "outputs": []
    },
    {
      "cell_type": "code",
      "metadata": {
        "id": "gi9fxT2WNAj2"
      },
      "source": [
        "X = np.array([[1,2],\n",
        "            [1.5,1.8],\n",
        "            [5,8],\n",
        "            [8,8],\n",
        "            [1,0.6],\n",
        "            [9,11]])"
      ],
      "execution_count": 28,
      "outputs": []
    },
    {
      "cell_type": "code",
      "metadata": {
        "id": "MwQonFRmNT7N",
        "outputId": "0f77c2c9-185e-4dea-e0e4-30610ea0f8c1",
        "colab": {
          "base_uri": "https://localhost:8080/",
          "height": 282
        }
      },
      "source": [
        "plt.scatter(X[:,0], X[:,1], s=150, linewidths=5)"
      ],
      "execution_count": 29,
      "outputs": [
        {
          "output_type": "execute_result",
          "data": {
            "text/plain": [
              "<matplotlib.collections.PathCollection at 0x7f877b60c208>"
            ]
          },
          "metadata": {
            "tags": []
          },
          "execution_count": 29
        },
        {
          "output_type": "display_data",
          "data": {
            "image/png": "[encoded data removed]",
            "text/plain": [
              "<Figure size 432x288 with 1 Axes>"
            ]
          },
          "metadata": {
            "tags": []
          }
        }
      ]
    },
    {
      "cell_type": "code",
      "metadata": {
        "id": "Mmw32bCANwPK"
      },
      "source": [
        "clf = KMeans(n_clusters=2)\n",
        "clf.fit(X)\n",
        "\n",
        "centroids = clf.cluster_centers_\n",
        "labels = clf.labels_\n",
        "\n",
        "colors = [\"g.\", \"r.\", \"b.\", \"k.\", \"c.\", \"o.\"]"
      ],
      "execution_count": 30,
      "outputs": []
    },
    {
      "cell_type": "code",
      "metadata": {
        "id": "J0VdUS38OowF",
        "outputId": "3579b93f-51b4-494a-ff39-c6aee60a69a3",
        "colab": {
          "base_uri": "https://localhost:8080/",
          "height": 265
        }
      },
      "source": [
        "for i in range(len(X)):\n",
        "  plt.plot(X[i][0], X[i][1], colors[labels[i]], markersize=10)\n",
        "  \n",
        "plt.scatter(centroids[:,0], centroids[:,1], marker=\"x\", s=150, linewidths=5)\n",
        "plt.show()"
      ],
      "execution_count": 31,
      "outputs": [
        {
          "output_type": "display_data",
          "data": {
            "image/png": "[encoded data removed]",
            "text/plain": [
              "<Figure size 432x288 with 1 Axes>"
            ]
          },
          "metadata": {
            "tags": []
          }
        }
      ]
    },
    {
      "cell_type": "code",
      "metadata": {
        "id": "DEZHFw07Pj5A",
        "outputId": "6b5caeba-2f60-4a5b-826d-b1260440afee",
        "colab": {
          "base_uri": "https://localhost:8080/",
          "height": 69
        }
      },
      "source": [
        "!curl -o titanic.xls https://pythonprogramming.net/static/downloads/machine-learning-data/titanic.xls"
      ],
      "execution_count": 32,
      "outputs": [
        {
          "output_type": "stream",
          "text": [
            "  % Total    % Received % Xferd  Average Speed   Time    Time     Time  Current\n",
            "                                 Dload  Upload   Total   Spent    Left  Speed\n",
            "100  277k  100  277k    0     0   152k      0  0:00:01  0:00:01 --:--:--  152k\n"
          ],
          "name": "stdout"
        }
      ]
    },
    {
      "cell_type": "code",
      "metadata": {
        "id": "SUm71CwwB5IO",
        "outputId": "00fc3aaf-e3c2-469b-b4f3-e9eff0b21766",
        "colab": {
          "base_uri": "https://localhost:8080/",
          "height": 69
        }
      },
      "source": [
        "!ls -lrt"
      ],
      "execution_count": 33,
      "outputs": [
        {
          "output_type": "stream",
          "text": [
            "total 284\n",
            "drwxr-xr-x 1 root root   4096 Sep 28 16:35 sample_data\n",
            "-rw-r--r-- 1 root root 284160 Oct  2 05:04 titanic.xls\n"
          ],
          "name": "stdout"
        }
      ]
    },
    {
      "cell_type": "code",
      "metadata": {
        "id": "wnrpteSZB7bX"
      },
      "source": [
        "import pandas as pd\n",
        "from sklearn import preprocessing\n",
        "from sklearn.model_selection import train_test_split"
      ],
      "execution_count": 34,
      "outputs": []
    },
    {
      "cell_type": "code",
      "metadata": {
        "id": "82AeRGt0r6Uj",
        "outputId": "24b6c1c4-5c1b-4936-c039-1158c7791fe5",
        "colab": {
          "base_uri": "https://localhost:8080/",
          "height": 35
        }
      },
      "source": [
        "pd.__version__"
      ],
      "execution_count": 35,
      "outputs": [
        {
          "output_type": "execute_result",
          "data": {
            "application/vnd.google.colaboratory.intrinsic+json": {
              "type": "string"
            },
            "text/plain": [
              "'1.1.2'"
            ]
          },
          "metadata": {
            "tags": []
          },
          "execution_count": 35
        }
      ]
    },
    {
      "cell_type": "code",
      "metadata": {
        "id": "QpYfMyx_Ic6m"
      },
      "source": [
        "df = pd.read_excel('titanic.xls')"
      ],
      "execution_count": 36,
      "outputs": []
    },
    {
      "cell_type": "code",
      "metadata": {
        "id": "WM1U87eoI1hu",
        "outputId": "7c054b7f-6e44-4494-8490-52d3811f5043",
        "colab": {
          "base_uri": "https://localhost:8080/",
          "height": 156
        }
      },
      "source": [
        "print(df.head())"
      ],
      "execution_count": 37,
      "outputs": [
        {
          "output_type": "stream",
          "text": [
            "   pclass  survived  ...   body                        home.dest\n",
            "0       1         1  ...    NaN                     St Louis, MO\n",
            "1       1         1  ...    NaN  Montreal, PQ / Chesterville, ON\n",
            "2       1         0  ...    NaN  Montreal, PQ / Chesterville, ON\n",
            "3       1         0  ...  135.0  Montreal, PQ / Chesterville, ON\n",
            "4       1         0  ...    NaN  Montreal, PQ / Chesterville, ON\n",
            "\n",
            "[5 rows x 14 columns]\n"
          ],
          "name": "stdout"
        }
      ]
    },
    {
      "cell_type": "code",
      "metadata": {
        "id": "MwJhh7LBrYLj"
      },
      "source": [
        "df.drop(['body','name'], 1, inplace=True)"
      ],
      "execution_count": 38,
      "outputs": []
    },
    {
      "cell_type": "code",
      "metadata": {
        "id": "BlwlihT1KD3k"
      },
      "source": [
        "#df.to_numeric(convert_numeric=True)\n",
        "df.fillna(0,inplace=True)"
      ],
      "execution_count": 39,
      "outputs": []
    },
    {
      "cell_type": "code",
      "metadata": {
        "id": "9YjsIaASL7Yo"
      },
      "source": [
        "def handle_non_numeric_data(df):\n",
        "  columns = df.columns.values\n",
        "  \n",
        "  for column in columns:\n",
        "    text_digit_vals = {}\n",
        "    def convert_to_int(val):\n",
        "      return text_digit_vals[val]\n",
        "    \n",
        "    if df[column].dtype != np.int64 and df[column].dtype != np.float64:\n",
        "      column_contents = df[column].values.tolist()\n",
        "      unique_elements = set(column_contents)\n",
        "      x = 0\n",
        "      for unique in unique_elements:\n",
        "        if unique not in text_digit_vals:\n",
        "          text_digit_vals[unique] = x\n",
        "          x+=1\n",
        "          \n",
        "      df[column] = list(map(convert_to_int, df[column]))\n",
        "  return df"
      ],
      "execution_count": 40,
      "outputs": []
    },
    {
      "cell_type": "code",
      "metadata": {
        "id": "Mv2HOD_uQjTR",
        "outputId": "5d2b60b4-7f46-454b-97f2-ad14b573a892",
        "colab": {
          "base_uri": "https://localhost:8080/",
          "height": 156
        }
      },
      "source": [
        "df = handle_non_numeric_data(df)\n",
        "print(df.head())"
      ],
      "execution_count": 41,
      "outputs": [
        {
          "output_type": "stream",
          "text": [
            "   pclass  survived  sex      age  ...  cabin  embarked  boat  home.dest\n",
            "0       1         1    1  29.0000  ...    146         3     2        341\n",
            "1       1         1    0   0.9167  ...     13         3    28        140\n",
            "2       1         0    1   2.0000  ...     13         3     0        140\n",
            "3       1         0    0  30.0000  ...     13         3     0        140\n",
            "4       1         0    1  25.0000  ...     13         3     0        140\n",
            "\n",
            "[5 rows x 12 columns]\n"
          ],
          "name": "stdout"
        }
      ]
    },
    {
      "cell_type": "code",
      "metadata": {
        "id": "JM-G5fonQtSa",
        "outputId": "991820b7-7c86-47a5-c82a-887908acec44",
        "colab": {
          "base_uri": "https://localhost:8080/",
          "height": 69
        }
      },
      "source": [
        "X = np.array(df.drop(['survived'],1).astype(float))\n",
        "X = preprocessing.scale(X)\n",
        "y = np.array(df['survived'])\n",
        "\n",
        "clf = KMeans(n_clusters=2)\n",
        "clf.fit(X)"
      ],
      "execution_count": 42,
      "outputs": [
        {
          "output_type": "execute_result",
          "data": {
            "text/plain": [
              "KMeans(algorithm='auto', copy_x=True, init='k-means++', max_iter=300,\n",
              "       n_clusters=2, n_init=10, n_jobs=None, precompute_distances='auto',\n",
              "       random_state=None, tol=0.0001, verbose=0)"
            ]
          },
          "metadata": {
            "tags": []
          },
          "execution_count": 42
        }
      ]
    },
    {
      "cell_type": "code",
      "metadata": {
        "id": "wFdUgsruRUjw",
        "outputId": "ccdbc421-cbbd-4c24-e34c-8189597b6cb2",
        "colab": {
          "base_uri": "https://localhost:8080/",
          "height": 34
        }
      },
      "source": [
        "correct = 0\n",
        "for i in range(len(X)):\n",
        "  predict_me = np.array(X[i].astype(float))\n",
        "  predict_me = predict_me.reshape(-1, len(predict_me))\n",
        "  prediction = clf.predict(predict_me)\n",
        "  if prediction[0] == y[i]:\n",
        "    correct += 1\n",
        "    \n",
        "print(\"accuracy: \", correct/len(X))"
      ],
      "execution_count": 43,
      "outputs": [
        {
          "output_type": "stream",
          "text": [
            "accuracy:  0.25362872421695953\n"
          ],
          "name": "stdout"
        }
      ]
    },
    {
      "cell_type": "code",
      "metadata": {
        "id": "faMNoN9XSOIT",
        "outputId": "3a40fc40-1113-43f0-ca6a-f5417dfe039f",
        "colab": {
          "base_uri": "https://localhost:8080/",
          "height": 265
        }
      },
      "source": [
        "#custom KMeans\n",
        "X = np.array([[1,2],\n",
        "            [1.5,1.8],\n",
        "            [5,8],\n",
        "            [8,8],\n",
        "            [1,0.6],\n",
        "            [9,11]])\n",
        "plt.scatter(X[:,0], X[:,1], s=150, linewidths=5)\n",
        "colors = [\"g\", \"r\", \"b\", \"k\", \"c\", \"o\"]"
      ],
      "execution_count": 44,
      "outputs": [
        {
          "output_type": "display_data",
          "data": {
            "image/png": "[encoded data removed]",
            "text/plain": [
              "<Figure size 432x288 with 1 Axes>"
            ]
          },
          "metadata": {
            "tags": []
          }
        }
      ]
    },
    {
      "cell_type": "code",
      "metadata": {
        "id": "I2qnPiTMbPm8"
      },
      "source": [
        "class K_Means:\n",
        "  def __init__(self, k=2, tol=0.001, max_iter=300):\n",
        "    self.k = k\n",
        "    self.tol = tol\n",
        "    self.max_iter = max_iter\n",
        "    \n",
        "  def fit(self, data):\n",
        "    self.centroids = {}\n",
        "    for i in range(self.k):\n",
        "      self.centroids[i] = data[i]\n",
        "      \n",
        "    for i in range(self.max_iter):\n",
        "      self.classifications = {}\n",
        "      \n",
        "      for i in range(self.k):\n",
        "        self.classifications[i] = []\n",
        "        \n",
        "      for featureset in data:\n",
        "        distances = [np.linalg.norm(featureset-self.centroids[centroid]) for centroid in self.centroids]\n",
        "        classification = distances.index(min(distances))\n",
        "        self.classifications[classification].append(featureset)\n",
        "          \n",
        "      prev_centroids = dict(self.centroids)\n",
        "        \n",
        "      for classification in self.classifications:\n",
        "        #pass\n",
        "        self.centroids[classification] = np.average(self.classifications[classification], axis=0)\n",
        "  \n",
        "  def predict(self, data):\n",
        "    distances = [np.linalg.norm(data-self.centroids[centroid]) for centroid in self.centroids]\n",
        "    classification = distances.index(min(distances))\n",
        "    return classification\n"
      ],
      "execution_count": 45,
      "outputs": []
    },
    {
      "cell_type": "code",
      "metadata": {
        "id": "0NX54PvzXPpQ",
        "outputId": "10a6bf10-7048-407d-c2ca-4789daf377d5",
        "colab": {
          "base_uri": "https://localhost:8080/",
          "height": 265
        }
      },
      "source": [
        "clf = K_Means()\n",
        "clf.fit(X)\n",
        "\n",
        "for centroid in clf.centroids:\n",
        "  plt.scatter(clf.centroids[centroid][0], clf.centroids[centroid][1],\n",
        "             marker=\"o\", color=\"k\", s=150, linewidths=5)\n",
        "  \n",
        "for classification in clf.classifications:\n",
        "  color = colors[classification]\n",
        "  for featureset in clf.classifications[classification]:\n",
        "    plt.scatter(featureset[0], featureset[1], marker=\"x\", color=color, s=150, linewidths=5)\n",
        "\n",
        "plt.show()"
      ],
      "execution_count": 46,
      "outputs": [
        {
          "output_type": "display_data",
          "data": {
            "image/png": "[encoded data removed]",
            "text/plain": [
              "<Figure size 432x288 with 1 Axes>"
            ]
          },
          "metadata": {
            "tags": []
          }
        }
      ]
    },
    {
      "cell_type": "code",
      "metadata": {
        "id": "BfSZvd3RYu0N"
      },
      "source": [
        ""
      ],
      "execution_count": null,
      "outputs": []
    }
  ]
}